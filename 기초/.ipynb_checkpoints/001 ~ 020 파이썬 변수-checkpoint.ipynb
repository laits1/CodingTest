{
 "cells": [
  {
   "cell_type": "markdown",
   "id": "0fc2b496",
   "metadata": {},
   "source": [
    "https://wikidocs.net/book/922"
   ]
  },
  {
   "cell_type": "markdown",
   "id": "24e6e9d5",
   "metadata": {},
   "source": [
    "#### 001 print 기초\n",
    "- 화면에 Hello World 문자열을 출력하세요."
   ]
  },
  {
   "cell_type": "code",
   "execution_count": 4,
   "id": "b5fda5ce",
   "metadata": {},
   "outputs": [
    {
     "name": "stdout",
     "output_type": "stream",
     "text": [
      "hello\n"
     ]
    }
   ],
   "source": [
    "print(\"hello\")"
   ]
  },
  {
   "cell_type": "markdown",
   "id": "6923e06f",
   "metadata": {},
   "source": [
    "#### 002 print 기초\n",
    "- 화면에 Mary's cosmetics을 출력하세요. (중간에 '가 있음에 주의하세요)"
   ]
  },
  {
   "cell_type": "code",
   "execution_count": 5,
   "id": "af0bbf1d",
   "metadata": {},
   "outputs": [
    {
     "name": "stdout",
     "output_type": "stream",
     "text": [
      "Mary's cosmetics\n"
     ]
    }
   ],
   "source": [
    "print(\"Mary's cosmetics\")"
   ]
  },
  {
   "cell_type": "markdown",
   "id": "f05b3798",
   "metadata": {},
   "source": [
    "#### 003 print 기초\n",
    "- 화면에 아래 문장을 출력하세요. (중간에 \"가 있음에 주의하세요.)\n",
    "    - 신씨가 소리질렀다. \"도둑이야\"."
   ]
  },
  {
   "cell_type": "code",
   "execution_count": 3,
   "id": "06c5bee5",
   "metadata": {},
   "outputs": [
    {
     "name": "stdout",
     "output_type": "stream",
     "text": [
      "신씨가 소리질렀다. \"도둑이야\".\n"
     ]
    }
   ],
   "source": [
    "print('신씨가 소리질렀다. \"도둑이야\".')"
   ]
  },
  {
   "cell_type": "markdown",
   "id": "71c65db0",
   "metadata": {},
   "source": [
    "#### 004 print 기초\n",
    "- 화면에 \"C:\\Windows\"를 출력하세요."
   ]
  },
  {
   "cell_type": "code",
   "execution_count": 8,
   "id": "3df54e56",
   "metadata": {},
   "outputs": [
    {
     "name": "stdout",
     "output_type": "stream",
     "text": [
      "C:\\Windows\n"
     ]
    }
   ],
   "source": [
    "print(\"C:\\Windows\")"
   ]
  },
  {
   "cell_type": "markdown",
   "id": "5946c9d5",
   "metadata": {},
   "source": [
    "#### 005 print 탭과 줄바꿈\n",
    "- 다음 코드를 실행해보고 \\t와 \\n의 역할을 설명해보세요.\n",
    "\n",
    "- print(\"안녕하세요.\\n만나서\\t\\t반갑습니다.\")"
   ]
  },
  {
   "cell_type": "code",
   "execution_count": 10,
   "id": "755062d6",
   "metadata": {},
   "outputs": [
    {
     "name": "stdout",
     "output_type": "stream",
     "text": [
      "안녕하세요.\n",
      "만나서\t\t반갑습니다.\n"
     ]
    }
   ],
   "source": [
    "print(\"안녕하세요.\\n만나서\\t\\t반갑습니다.\")\n",
    "# \\n은 엔터, \\t는 탭 역할"
   ]
  },
  {
   "cell_type": "markdown",
   "id": "6031fe3c",
   "metadata": {},
   "source": [
    "#### 006 print 여러 데이터 출력\n",
    "- print 함수에 두 개의 단어를 입력한 예제입니다. 아래 코드의 출력 결과를 예상해봅시다.\n",
    "\n",
    "- print (\"오늘은\", \"일요일\")"
   ]
  },
  {
   "cell_type": "code",
   "execution_count": 13,
   "id": "010a541e",
   "metadata": {},
   "outputs": [
    {
     "name": "stdout",
     "output_type": "stream",
     "text": [
      "오늘은 일요일\n",
      "오늘은일요일\n"
     ]
    }
   ],
   "source": [
    "print(\"오늘은\", \"일요일\")\n",
    "print(\"오늘은\"+\"일요일\")\n",
    "# 오늘은 일요일\n",
    "# 오늘은일요일"
   ]
  },
  {
   "cell_type": "markdown",
   "id": "eb97c885",
   "metadata": {},
   "source": [
    "#### 007 print 기초\n",
    "print() 함수를 사용하여 다음과 같이 출력하세요.\n",
    "\n",
    "naver;kakao;sk;samsung"
   ]
  },
  {
   "cell_type": "code",
   "execution_count": 15,
   "id": "326ace50",
   "metadata": {},
   "outputs": [
    {
     "name": "stdout",
     "output_type": "stream",
     "text": [
      "naver;kakao;sk;samsung\n",
      "naver;kakao;sk;samsung\n"
     ]
    }
   ],
   "source": [
    "print(\"naver;kakao;sk;samsung\")\n",
    "print(\"naver\",\"kakao\",\"sk\",\"samsung\", sep=\";\")"
   ]
  },
  {
   "cell_type": "markdown",
   "id": "d2021eca",
   "metadata": {},
   "source": [
    "#### 008 print 기초\n",
    "print() 함수를 사용하여 다음과 같이 출력하세요.\n",
    "\n",
    "naver/kakao/sk/samsung\n"
   ]
  },
  {
   "cell_type": "code",
   "execution_count": 16,
   "id": "fde969d7",
   "metadata": {},
   "outputs": [
    {
     "name": "stdout",
     "output_type": "stream",
     "text": [
      "naver/kakao/sk/samsung\n"
     ]
    }
   ],
   "source": [
    "print(\"naver\",\"kakao\",\"sk\",\"samsung\", sep='/')"
   ]
  },
  {
   "cell_type": "markdown",
   "id": "f9f3ad53",
   "metadata": {},
   "source": [
    "#### 009 print 줄바꿈\n",
    "다음 코드를 수정하여 줄바꿈이 없이 출력하세요. (힌트: end='') print 함수는 두 번 사용합니다. 세미콜론 (;)은 한줄에 여러 개의 명령을 작성하기 위해 사용합니다.\n",
    "\n",
    "print(\"first\");print(\"second\")"
   ]
  },
  {
   "cell_type": "code",
   "execution_count": 17,
   "id": "61410d5c",
   "metadata": {},
   "outputs": [
    {
     "name": "stdout",
     "output_type": "stream",
     "text": [
      "firstsecond\n"
     ]
    }
   ],
   "source": [
    "print(\"first\", end='');print(\"second\")"
   ]
  },
  {
   "cell_type": "markdown",
   "id": "e8c30a20",
   "metadata": {},
   "source": [
    "#### 010 연산 결과 출력\n",
    "5/3의 결과를 화면에 출력하세요."
   ]
  },
  {
   "cell_type": "code",
   "execution_count": 18,
   "id": "e71f0b2e",
   "metadata": {},
   "outputs": [
    {
     "name": "stdout",
     "output_type": "stream",
     "text": [
      "1.6666666666666667\n"
     ]
    }
   ],
   "source": [
    "print(5/3)"
   ]
  },
  {
   "cell_type": "markdown",
   "id": "728ea217",
   "metadata": {},
   "source": [
    "#### 011 변수 사용하기\n",
    "삼성전자라는 변수로 50,000원을 바인딩해보세요. 삼성전자 주식 10주를 보유하고 있을 때 총 평가금액을 출력하세요."
   ]
  },
  {
   "cell_type": "code",
   "execution_count": 8,
   "id": "d9cf16ff",
   "metadata": {},
   "outputs": [
    {
     "data": {
      "text/plain": [
       "500000"
      ]
     },
     "execution_count": 8,
     "metadata": {},
     "output_type": "execute_result"
    }
   ],
   "source": [
    "삼성전자 = 50000\n",
    "qt = 10\n",
    "total = 삼성전자 * qt\n",
    "total"
   ]
  },
  {
   "cell_type": "markdown",
   "id": "b44b04fe",
   "metadata": {},
   "source": [
    "#### 012 변수 사용하기\n",
    "다음 표는 삼성전자의 일부 투자정보입니다. 변수를 사용해서 시가총액, 현재가, PER 등을 바인딩해보세요.\n",
    "\n",
    "항목\t값\n",
    "\n",
    "시가총액\t298조\n",
    "\n",
    "현재가\t50,000원\n",
    "\n",
    "PER\t15.79"
   ]
  },
  {
   "cell_type": "code",
   "execution_count": 12,
   "id": "6561fa90",
   "metadata": {},
   "outputs": [
    {
     "name": "stdout",
     "output_type": "stream",
     "text": [
      "290000000000000 <class 'int'>\n",
      "50000\n",
      "15.79\n"
     ]
    }
   ],
   "source": [
    "시가총액 = 290000000000000\n",
    "현재가 = 50000\n",
    "PER = 15.79\n",
    "print(시가총액, type(시가총액))\n",
    "print(현재가)\n",
    "print(PER)"
   ]
  },
  {
   "cell_type": "markdown",
   "id": "87fe6fc4",
   "metadata": {},
   "source": [
    "#### 013 문자열 출력\n",
    "변수 s와 t에는 각각 문자열이 바인딩 되어있습니다.\n",
    "\n",
    "s = \"hello\"\n",
    "\n",
    "t = \"python\"\n",
    "두 변수를 이용하여 아래와 같이 출력해보세요.\n",
    "\n",
    "실행 예:\n",
    "hello! python"
   ]
  },
  {
   "cell_type": "code",
   "execution_count": 14,
   "id": "efe62ee7",
   "metadata": {},
   "outputs": [
    {
     "name": "stdout",
     "output_type": "stream",
     "text": [
      "hello! python\n"
     ]
    }
   ],
   "source": [
    "s = \"hello\"\n",
    "t = \"python\"\n",
    "print(s+\"!\",t)"
   ]
  },
  {
   "cell_type": "markdown",
   "id": "5fc7990b",
   "metadata": {},
   "source": [
    "#### 014 파이썬을 이용한 값 계산\n",
    "아래 코드의 실행 결과를 예상해보세요.\n",
    "\n",
    "2 + 2 * 3 "
   ]
  },
  {
   "cell_type": "code",
   "execution_count": 15,
   "id": "2c119b15",
   "metadata": {},
   "outputs": [
    {
     "data": {
      "text/plain": [
       "8"
      ]
     },
     "execution_count": 15,
     "metadata": {},
     "output_type": "execute_result"
    }
   ],
   "source": [
    "# 8\n",
    "2 + 2 * 3"
   ]
  },
  {
   "cell_type": "markdown",
   "id": "22de7c6a",
   "metadata": {},
   "source": [
    "#### 015 type 함수\n",
    "type() 함수는 데이터 타입을 판별합니다. 변수 a에는 128 숫자가 바인딩돼 있어 type 함수가 int (정수)형임을 알려줍니다.\n",
    "\n",
    "a = 128\n",
    "\n",
    "print (type(a))\n",
    "\n",
    "<class 'int'>\n",
    "\n",
    "아래 변수에 바인딩된 값의 타입을 판별해보세요.\n",
    "\n",
    "a = \"132\""
   ]
  },
  {
   "cell_type": "code",
   "execution_count": 16,
   "id": "fd777452",
   "metadata": {},
   "outputs": [
    {
     "name": "stdout",
     "output_type": "stream",
     "text": [
      "<class 'str'>\n"
     ]
    }
   ],
   "source": [
    "# str\n",
    "a = \"132\"\n",
    "print(type(a))"
   ]
  },
  {
   "cell_type": "markdown",
   "id": "8a38c8ad",
   "metadata": {},
   "source": [
    "#### 016 문자열을 정수로 변환\n",
    "문자열 '720'를 정수형으로 변환해보세요.\n",
    "\n",
    "num_str = \"720\""
   ]
  },
  {
   "cell_type": "code",
   "execution_count": 17,
   "id": "60db8258",
   "metadata": {},
   "outputs": [
    {
     "name": "stdout",
     "output_type": "stream",
     "text": [
      "<class 'int'>\n"
     ]
    }
   ],
   "source": [
    "num_str = \"720\"\n",
    "num_int = int(num_str)\n",
    "print(type(num_int))"
   ]
  },
  {
   "cell_type": "markdown",
   "id": "fa6f7652",
   "metadata": {},
   "source": [
    "#### 017 정수를 문자열 100으로 변환\n",
    "정수 100을 문자열 '100'으로 변환해보세요.\n",
    "\n",
    "num = 100"
   ]
  },
  {
   "cell_type": "code",
   "execution_count": 18,
   "id": "a2b9d4b2",
   "metadata": {},
   "outputs": [
    {
     "name": "stdout",
     "output_type": "stream",
     "text": [
      "<class 'str'>\n"
     ]
    }
   ],
   "source": [
    "num = 100\n",
    "num_str = str(num)\n",
    "\n",
    "print(type(num_str))"
   ]
  },
  {
   "cell_type": "markdown",
   "id": "0b5410ce",
   "metadata": {},
   "source": [
    "#### 018 문자열을 실수로 변환\n",
    "문자열 \"15.79\"를 실수(float) 타입으로 변환해보세요."
   ]
  },
  {
   "cell_type": "code",
   "execution_count": 20,
   "id": "2838d72f",
   "metadata": {},
   "outputs": [
    {
     "name": "stdout",
     "output_type": "stream",
     "text": [
      "<class 'float'>\n"
     ]
    }
   ],
   "source": [
    "string = \"15.79\"\n",
    "string_flo = float(string)\n",
    "print(type(string_flo))"
   ]
  },
  {
   "cell_type": "markdown",
   "id": "0c12231f",
   "metadata": {},
   "source": [
    "#### 019 문자열을 정수로 변환\n",
    "year라는 변수가 문자열 타입의 연도를 바인딩하고 있습니다. 이를 정수로 변환한 후 최근 3년의 연도를 화면에 출력해보세요."
   ]
  },
  {
   "cell_type": "code",
   "execution_count": 22,
   "id": "ec6a1aa1",
   "metadata": {},
   "outputs": [
    {
     "name": "stdout",
     "output_type": "stream",
     "text": [
      "2021 2020 2019\n"
     ]
    }
   ],
   "source": [
    "year = \"2021\"\n",
    "year_int = int(year)\n",
    "print(year_int, year_int -1, year_int-2)"
   ]
  },
  {
   "cell_type": "markdown",
   "id": "2473edf3",
   "metadata": {},
   "source": [
    "#### 020 파이썬 계산\n",
    "에이컨이 월 48,584원에 무이자 36개월의 조건으로 홈쇼핑에서 판매되고 있습니다. 총 금액은 계산한 후 이를 화면에 출력해보세요. (변수사용하기)"
   ]
  },
  {
   "cell_type": "code",
   "execution_count": 23,
   "id": "94a639eb",
   "metadata": {},
   "outputs": [
    {
     "name": "stdout",
     "output_type": "stream",
     "text": [
      "총 금액 :  1749024\n"
     ]
    }
   ],
   "source": [
    "price = 48584\n",
    "month = 36\n",
    "print(\"총 금액 : \", price * month)"
   ]
  },
  {
   "cell_type": "code",
   "execution_count": null,
   "id": "34b772c0",
   "metadata": {},
   "outputs": [],
   "source": []
  },
  {
   "cell_type": "code",
   "execution_count": null,
   "id": "78d76f61",
   "metadata": {},
   "outputs": [],
   "source": []
  },
  {
   "cell_type": "code",
   "execution_count": null,
   "id": "e37c2656",
   "metadata": {},
   "outputs": [],
   "source": []
  },
  {
   "cell_type": "code",
   "execution_count": null,
   "id": "274fdb6e",
   "metadata": {},
   "outputs": [],
   "source": []
  },
  {
   "cell_type": "code",
   "execution_count": null,
   "id": "c87de113",
   "metadata": {},
   "outputs": [],
   "source": []
  },
  {
   "cell_type": "code",
   "execution_count": null,
   "id": "8fb5a100",
   "metadata": {},
   "outputs": [],
   "source": []
  },
  {
   "cell_type": "code",
   "execution_count": null,
   "id": "deeaf81a",
   "metadata": {},
   "outputs": [],
   "source": []
  },
  {
   "cell_type": "code",
   "execution_count": null,
   "id": "fb217cae",
   "metadata": {},
   "outputs": [],
   "source": []
  },
  {
   "cell_type": "code",
   "execution_count": null,
   "id": "47f8a9d7",
   "metadata": {},
   "outputs": [],
   "source": []
  },
  {
   "cell_type": "code",
   "execution_count": null,
   "id": "e8f0e694",
   "metadata": {},
   "outputs": [],
   "source": []
  },
  {
   "cell_type": "code",
   "execution_count": null,
   "id": "52db3f45",
   "metadata": {},
   "outputs": [],
   "source": []
  },
  {
   "cell_type": "code",
   "execution_count": null,
   "id": "aaba7703",
   "metadata": {},
   "outputs": [],
   "source": []
  },
  {
   "cell_type": "code",
   "execution_count": null,
   "id": "4d940c0c",
   "metadata": {},
   "outputs": [],
   "source": []
  },
  {
   "cell_type": "code",
   "execution_count": null,
   "id": "4d311e24",
   "metadata": {},
   "outputs": [],
   "source": []
  }
 ],
 "metadata": {
  "kernelspec": {
   "display_name": "Python 3",
   "language": "python",
   "name": "python3"
  },
  "language_info": {
   "codemirror_mode": {
    "name": "ipython",
    "version": 3
   },
   "file_extension": ".py",
   "mimetype": "text/x-python",
   "name": "python",
   "nbconvert_exporter": "python",
   "pygments_lexer": "ipython3",
   "version": "3.8.8"
  }
 },
 "nbformat": 4,
 "nbformat_minor": 5
}
