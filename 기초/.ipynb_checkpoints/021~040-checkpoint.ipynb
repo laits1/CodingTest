{
 "cells": [
  {
   "cell_type": "markdown",
   "id": "4537a288",
   "metadata": {},
   "source": [
    "#### 021 문자열 인덱싱\n",
    "letters가 바인딩하는 문자열에서 첫번째와 세번째 문자를 출력하세요.\n",
    "\n",
    "letters = 'python' \n",
    "\n",
    "실행 예\n",
    "\n",
    "p t"
   ]
  },
  {
   "cell_type": "code",
   "execution_count": 13,
   "id": "4abdbea4",
   "metadata": {},
   "outputs": [
    {
     "name": "stdout",
     "output_type": "stream",
     "text": [
      "p t\n"
     ]
    }
   ],
   "source": [
    "letters='python'\n",
    "print(letters[0] , letters[2])"
   ]
  },
  {
   "cell_type": "markdown",
   "id": "e48b3296",
   "metadata": {},
   "source": [
    "#### 022 문자열 슬라이싱\n",
    "자동차 번호가 다음과 같을 때 뒤에 4자리만 출력하세요.\n",
    "\n",
    "license_plate = \"24가 2210\"\n",
    "\n",
    "실행 예: 2210"
   ]
  },
  {
   "cell_type": "code",
   "execution_count": 17,
   "id": "05d83d7c",
   "metadata": {},
   "outputs": [
    {
     "name": "stdout",
     "output_type": "stream",
     "text": [
      "2210\n"
     ]
    }
   ],
   "source": [
    "license_plate = \"24가 2210\"\n",
    "print(license_plate[-4:])"
   ]
  },
  {
   "cell_type": "markdown",
   "id": "25edbc43",
   "metadata": {},
   "source": [
    "#### 023 문자열 인덱싱\n",
    "아래의 문자열에서 '홀' 만 출력하세요.\n",
    "\n",
    "string = \"홀짝홀짝홀짝\"\n",
    "\n",
    "실행 예:\n",
    "\n",
    "홀홀홀"
   ]
  },
  {
   "cell_type": "code",
   "execution_count": 22,
   "id": "eebcf704",
   "metadata": {},
   "outputs": [
    {
     "name": "stdout",
     "output_type": "stream",
     "text": [
      "홀홀홀\n"
     ]
    }
   ],
   "source": [
    "string = \"홀짝홀짝홀짝\"\n",
    "print(string[::2])"
   ]
  },
  {
   "cell_type": "markdown",
   "id": "695fd298",
   "metadata": {},
   "source": [
    "#### 024 문자열 슬라이싱\n",
    "문자열을 거꾸로 뒤집어 출력하세요.\n",
    "\n",
    "string = \"PYTHON\"\n",
    "\n",
    "실행 예:\n",
    "\n",
    "NOHTYP"
   ]
  },
  {
   "cell_type": "code",
   "execution_count": 35,
   "id": "1c3072d9",
   "metadata": {},
   "outputs": [
    {
     "name": "stdout",
     "output_type": "stream",
     "text": [
      "NOHTYP\n"
     ]
    }
   ],
   "source": [
    "string = \"PYTHON\"\n",
    "print(string[::-1])"
   ]
  },
  {
   "cell_type": "markdown",
   "id": "8807e930",
   "metadata": {},
   "source": [
    "#### 025 문자열 치환\n",
    "아래의 전화번호에서 하이푼 ('-')을 제거하고 출력하세요.\n",
    "\n",
    "phone_number = \"010-1111-2222\"\n",
    "\n",
    "실행 예\n",
    "\n",
    "010 1111 2222"
   ]
  },
  {
   "cell_type": "code",
   "execution_count": 39,
   "id": "c093dfd4",
   "metadata": {},
   "outputs": [
    {
     "data": {
      "text/plain": [
       "'010 1111 2222'"
      ]
     },
     "execution_count": 39,
     "metadata": {},
     "output_type": "execute_result"
    }
   ],
   "source": [
    "phone_number = \"010-1111-2222\"\n",
    "pn = phone_number.replace('-',' ')\n",
    "pn"
   ]
  },
  {
   "cell_type": "markdown",
   "id": "e4b61cef",
   "metadata": {},
   "source": [
    "#### 026 문자열 다루기\n",
    "25번 문제의 전화번호를 아래와 같이 모두 붙여 출력하세요.\n",
    "\n",
    "실행 예\n",
    "01011112222"
   ]
  },
  {
   "cell_type": "code",
   "execution_count": 41,
   "id": "b628b068",
   "metadata": {},
   "outputs": [
    {
     "data": {
      "text/plain": [
       "'01011112222'"
      ]
     },
     "execution_count": 41,
     "metadata": {},
     "output_type": "execute_result"
    }
   ],
   "source": [
    "pn\n",
    "pn.replace(' ','')"
   ]
  },
  {
   "cell_type": "markdown",
   "id": "0f3f50ed",
   "metadata": {},
   "source": [
    "#### 027 문자열 다루기\n",
    "url 에 저장된 웹 페이지 주소에서 도메인을 출력하세요.\n",
    "\n",
    "\n",
    "url = \"http://sharebook.kr\"\n",
    "\n",
    "실행 예:\n",
    "\n",
    "kr"
   ]
  },
  {
   "cell_type": "code",
   "execution_count": 45,
   "id": "904f7c4a",
   "metadata": {},
   "outputs": [
    {
     "data": {
      "text/plain": [
       "'kr'"
      ]
     },
     "execution_count": 45,
     "metadata": {},
     "output_type": "execute_result"
    }
   ],
   "source": [
    "url = \"http://sharebook.kr\"\n",
    "url[-2:]\n",
    "\n",
    "url_split = url.split('.')\n",
    "url_split[-1]"
   ]
  },
  {
   "cell_type": "markdown",
   "id": "ef7b4ce3",
   "metadata": {},
   "source": [
    "#### 028 문자열은 immutable\n",
    "아래 코드의 실행 결과를 예상해보세요.\n",
    "\n",
    "lang = 'python'\n",
    "\n",
    "lang[0] = 'P'\n",
    "\n",
    "print(lang)"
   ]
  },
  {
   "cell_type": "code",
   "execution_count": 51,
   "id": "019d7834",
   "metadata": {},
   "outputs": [
    {
     "ename": "TypeError",
     "evalue": "'str' object does not support item assignment",
     "output_type": "error",
     "traceback": [
      "\u001b[1;31m---------------------------------------------------------------------------\u001b[0m",
      "\u001b[1;31mTypeError\u001b[0m                                 Traceback (most recent call last)",
      "\u001b[1;32m<ipython-input-51-5842b3b55329>\u001b[0m in \u001b[0;36m<module>\u001b[1;34m\u001b[0m\n\u001b[0;32m      1\u001b[0m \u001b[0mlang\u001b[0m \u001b[1;33m=\u001b[0m \u001b[1;34m'python'\u001b[0m\u001b[1;33m\u001b[0m\u001b[1;33m\u001b[0m\u001b[0m\n\u001b[0;32m      2\u001b[0m \u001b[1;33m\u001b[0m\u001b[0m\n\u001b[1;32m----> 3\u001b[1;33m \u001b[0mlang\u001b[0m\u001b[1;33m[\u001b[0m\u001b[1;36m0\u001b[0m\u001b[1;33m]\u001b[0m \u001b[1;33m=\u001b[0m \u001b[1;34m'P'\u001b[0m\u001b[1;33m\u001b[0m\u001b[1;33m\u001b[0m\u001b[0m\n\u001b[0m\u001b[0;32m      4\u001b[0m \u001b[1;33m\u001b[0m\u001b[0m\n\u001b[0;32m      5\u001b[0m \u001b[0mprint\u001b[0m\u001b[1;33m(\u001b[0m\u001b[0mlang\u001b[0m\u001b[1;33m)\u001b[0m\u001b[1;33m\u001b[0m\u001b[1;33m\u001b[0m\u001b[0m\n",
      "\u001b[1;31mTypeError\u001b[0m: 'str' object does not support item assignment"
     ]
    }
   ],
   "source": [
    "lang = 'python'\n",
    "\n",
    "lang[0] = 'P'\n",
    "\n",
    "print(lang)\n",
    "# 문자열은 수정 불가능"
   ]
  },
  {
   "cell_type": "markdown",
   "id": "8e5c5068",
   "metadata": {},
   "source": [
    "#### 029 replace 메서드\n",
    "아래 문자열에서 소문자 'a'를 대문자 'A'로 변경하세요.\n",
    "\n",
    "string = 'abcdfe2a354a32a'\n",
    "\n",
    "실행 예:\n",
    "\n",
    "Abcdfe2A354A32A"
   ]
  },
  {
   "cell_type": "code",
   "execution_count": 50,
   "id": "cc471443",
   "metadata": {},
   "outputs": [
    {
     "data": {
      "text/plain": [
       "'Abcdfe2A354A32A'"
      ]
     },
     "execution_count": 50,
     "metadata": {},
     "output_type": "execute_result"
    }
   ],
   "source": [
    "string = 'abcdfe2a354a32a'\n",
    "str_ = string.replace('a','A')\n",
    "str_"
   ]
  },
  {
   "cell_type": "markdown",
   "id": "e84b2640",
   "metadata": {},
   "source": [
    "#### 030 replace 메서드\n",
    "아래 코드의 실행 결과를 예상해보세요.\n",
    "string = 'abcd'\n",
    "\n",
    "string.replace('b', 'B')\n",
    "\n",
    "print(string)"
   ]
  },
  {
   "cell_type": "code",
   "execution_count": 53,
   "id": "81170ca5",
   "metadata": {},
   "outputs": [
    {
     "name": "stdout",
     "output_type": "stream",
     "text": [
      "abcd\n"
     ]
    }
   ],
   "source": [
    "# replace가 원본반영을 안하므로 abcd 출력\n",
    "\n",
    "string = 'abcd'\n",
    "\n",
    "string.replace('b', 'B')\n",
    "\n",
    "print(string)"
   ]
  }
 ],
 "metadata": {
  "kernelspec": {
   "display_name": "Python 3",
   "language": "python",
   "name": "python3"
  },
  "language_info": {
   "codemirror_mode": {
    "name": "ipython",
    "version": 3
   },
   "file_extension": ".py",
   "mimetype": "text/x-python",
   "name": "python",
   "nbconvert_exporter": "python",
   "pygments_lexer": "ipython3",
   "version": "3.8.8"
  }
 },
 "nbformat": 4,
 "nbformat_minor": 5
}
