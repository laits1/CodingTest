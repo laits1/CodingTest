{
 "cells": [
  {
   "cell_type": "markdown",
   "id": "aacebb22",
   "metadata": {},
   "source": [
    "https://wikidocs.net/22000"
   ]
  },
  {
   "cell_type": "markdown",
   "id": "703d7db6",
   "metadata": {},
   "source": [
    "#### 081 별 표현식\n",
    "기본적으로 데이터 언패킹은 좌변의 변수와 우변 데이터 개수가 같아야 합니다. \n",
    "\n",
    "하지만 star expression을 사용하면 변수의 개수가 달라도 데이터 언패킹을 할 수 있습니다. \n",
    "\n",
    "튜플에 저장된 데이터 중에서 앞에 있는 두 개의 데이터만 필요할 경우 나머지 데이터의 언패킹 코드를 작성할 필요가 없습니다.\n",
    "\n",
    "a, b, *c = (0, 1, 2, 3, 4, 5)\n",
    "\n",
    "a\n",
    "\n",
    "0\n",
    "\n",
    "b\n",
    "\n",
    "1\n",
    "\n",
    "c\n",
    "\n",
    "[2, 3, 4, 5]\n",
    "\n",
    "다음과 같이 10개의 값이 저장된 scores 리스트가 있을 때, start expression을 사용하여 좌측 8개의 값을 valid_score 변수에 바인딩하여라.\n",
    "\n",
    "scores = [8.8, 8.9, 8.7, 9.2, 9.3, 9.7, 9.9, 9.5, 7.8, 9.4]"
   ]
  },
  {
   "cell_type": "code",
   "execution_count": 7,
   "id": "bde211ee",
   "metadata": {},
   "outputs": [
    {
     "name": "stdout",
     "output_type": "stream",
     "text": [
      "[8.8, 8.9, 8.7, 9.2, 9.3, 9.7, 9.9, 9.5]\n",
      "7.8\n",
      "9.4\n"
     ]
    }
   ],
   "source": [
    "scores = [8.8, 8.9, 8.7, 9.2, 9.3, 9.7, 9.9, 9.5, 7.8, 9.4]\n",
    "*valid_score, _, __ = scores\n",
    "print(valid_score)\n",
    "print(_)\n",
    "print(__)"
   ]
  },
  {
   "cell_type": "markdown",
   "id": "5ee2cced",
   "metadata": {},
   "source": [
    "#### 082\n",
    "다음과 같이 10개의 값이 저장된 scores 리스트가 있을 때, start expression을 사용하여 우측 8개의 값을 valid_score 변수에 바인딩하여라.\n",
    "\n",
    "scores = [8.8, 8.9, 8.7, 9.2, 9.3, 9.7, 9.9, 9.5, 7.8, 9.4]"
   ]
  },
  {
   "cell_type": "code",
   "execution_count": 8,
   "id": "faf529eb",
   "metadata": {},
   "outputs": [
    {
     "data": {
      "text/plain": [
       "[8.7, 9.2, 9.3, 9.7, 9.9, 9.5, 7.8, 9.4]"
      ]
     },
     "execution_count": 8,
     "metadata": {},
     "output_type": "execute_result"
    }
   ],
   "source": [
    "scores = [8.8, 8.9, 8.7, 9.2, 9.3, 9.7, 9.9, 9.5, 7.8, 9.4]\n",
    "_, _, *valid_score = scores\n",
    "valid_score"
   ]
  },
  {
   "cell_type": "markdown",
   "id": "bcce8e67",
   "metadata": {},
   "source": [
    "#### 083\n",
    "다음과 같이 10개의 값이 저장된 scores 리스트가 있을 때, start expression을 사용하여 가운데 있는 8개의 값을 valid_score 변수에 바인딩하여라.\n",
    "\n",
    "scores = [8.8, 8.9, 8.7, 9.2, 9.3, 9.7, 9.9, 9.5, 7.8, 9.4]"
   ]
  },
  {
   "cell_type": "code",
   "execution_count": 9,
   "id": "3c269cb4",
   "metadata": {},
   "outputs": [
    {
     "data": {
      "text/plain": [
       "[8.9, 8.7, 9.2, 9.3, 9.7, 9.9, 9.5, 7.8]"
      ]
     },
     "execution_count": 9,
     "metadata": {},
     "output_type": "execute_result"
    }
   ],
   "source": [
    "scores = [8.8, 8.9, 8.7, 9.2, 9.3, 9.7, 9.9, 9.5, 7.8, 9.4]\n",
    "_, *valid_score, _ = scores\n",
    "\n",
    "valid_score"
   ]
  },
  {
   "cell_type": "markdown",
   "id": "7500cab0",
   "metadata": {},
   "source": [
    "#### 084 비어있는 딕셔너리\n",
    "\n",
    "temp 이름의 비어있는 딕셔너리를 만들라."
   ]
  },
  {
   "cell_type": "code",
   "execution_count": 11,
   "id": "73c405f3",
   "metadata": {},
   "outputs": [
    {
     "name": "stdout",
     "output_type": "stream",
     "text": [
      "{} <class 'dict'>\n"
     ]
    }
   ],
   "source": [
    "temp = {}\n",
    "print(temp,type(temp))"
   ]
  },
  {
   "cell_type": "markdown",
   "id": "47e7c887",
   "metadata": {},
   "source": [
    "#### 085\n",
    "다음 아이스크림 이름과 희망 가격을 딕셔너리로 구성하라.\n",
    "\n",
    "이름\t희망 가격\n",
    "\n",
    "메로나\t1000\n",
    "\n",
    "폴라포\t1200\n",
    "\n",
    "빵빠레\t1800"
   ]
  },
  {
   "cell_type": "code",
   "execution_count": 12,
   "id": "49fc9f56",
   "metadata": {},
   "outputs": [
    {
     "data": {
      "text/plain": [
       "{'메로나': 1000, '폴라포': 1200, '빵빠레': 1800}"
      ]
     },
     "execution_count": 12,
     "metadata": {},
     "output_type": "execute_result"
    }
   ],
   "source": [
    "icecream = {\"메로나\":1000, \"폴라포\":1200, \"빵빠레\":1800}\n",
    "icecream"
   ]
  },
  {
   "cell_type": "markdown",
   "id": "d1513021",
   "metadata": {},
   "source": [
    "#### 086\n",
    "085 번의 딕셔너리에 아래 아이스크림 가격정보를 추가하라.\n",
    "\n",
    "이름\t희망 가격\n",
    "\n",
    "죠스바\t1200\n",
    "\n",
    "월드콘\t1500"
   ]
  },
  {
   "cell_type": "code",
   "execution_count": 13,
   "id": "10b369b1",
   "metadata": {},
   "outputs": [
    {
     "data": {
      "text/plain": [
       "{'메로나': 1000, '폴라포': 1200, '빵빠레': 1800, '죠스바': 1200, '월드콘': 1500}"
      ]
     },
     "execution_count": 13,
     "metadata": {},
     "output_type": "execute_result"
    }
   ],
   "source": [
    "icecream[\"죠스바\"] = 1200\n",
    "icecream[\"월드콘\"] = 1500\n",
    "icecream"
   ]
  },
  {
   "cell_type": "markdown",
   "id": "f66df5d4",
   "metadata": {},
   "source": [
    "#### 087\n",
    "다음 딕셔너리를 사용하여 메로나 가격을 출력하라.\n",
    "\n",
    "ice = {'메로나': 1000,\n",
    "       '폴로포': 1200,\n",
    "       '빵빠레': 1800,\n",
    "       '죠스바': 1200,\n",
    "       '월드콘': 1500}\n",
    "\n",
    "실행 예:\n",
    "\n",
    "메로나 가격: 1000"
   ]
  },
  {
   "cell_type": "code",
   "execution_count": 14,
   "id": "c99d886f",
   "metadata": {},
   "outputs": [
    {
     "name": "stdout",
     "output_type": "stream",
     "text": [
      "메로나 가격 : 1000\n"
     ]
    }
   ],
   "source": [
    "ice = {'메로나': 1000, '폴로포': 1200, '빵빠레': 1800, '죠스바': 1200, '월드콘': 1500}\n",
    "print(\"메로나 가격 : %d\" %(ice[\"메로나\"]))"
   ]
  },
  {
   "cell_type": "markdown",
   "id": "ad1bcca3",
   "metadata": {},
   "source": [
    "#### 088\n",
    "\n",
    "다음 딕셔너리에서 메로나의 가격을 1300으로 수정하라.\n",
    "\n",
    "ice = {'메로나': 1000,\n",
    "       '폴로포': 1200,\n",
    "       '빵빠레': 1800,\n",
    "       '죠스바': 1200,\n",
    "       '월드콘': 1500}"
   ]
  },
  {
   "cell_type": "code",
   "execution_count": 15,
   "id": "5df0a939",
   "metadata": {},
   "outputs": [
    {
     "data": {
      "text/plain": [
       "{'메로나': 1300, '폴로포': 1200, '빵빠레': 1800, '죠스바': 1200, '월드콘': 1500}"
      ]
     },
     "execution_count": 15,
     "metadata": {},
     "output_type": "execute_result"
    }
   ],
   "source": [
    "ice = {'메로나': 1000,\n",
    "       '폴로포': 1200,\n",
    "       '빵빠레': 1800,\n",
    "       '죠스바': 1200,\n",
    "       '월드콘': 1500}\n",
    "ice[\"메로나\"] = 1300\n",
    "\n",
    "ice"
   ]
  },
  {
   "cell_type": "markdown",
   "id": "9e7cbf43",
   "metadata": {},
   "source": [
    "#### 089\n",
    "다음 딕셔너리에서 메로나를 삭제하라.\n",
    "\n",
    "ice = {'메로나': 1000,\n",
    "       '폴로포': 1200,\n",
    "       '빵빠레': 1800,\n",
    "       '죠스바': 1200,\n",
    "       '월드콘': 1500}"
   ]
  },
  {
   "cell_type": "code",
   "execution_count": 16,
   "id": "0d05b2fd",
   "metadata": {},
   "outputs": [
    {
     "data": {
      "text/plain": [
       "{'폴로포': 1200, '빵빠레': 1800, '죠스바': 1200, '월드콘': 1500}"
      ]
     },
     "execution_count": 16,
     "metadata": {},
     "output_type": "execute_result"
    }
   ],
   "source": [
    "ice = {'메로나': 1000, '폴로포': 1200, '빵빠레': 1800, '죠스바': 1200, '월드콘': 1500}\n",
    "del ice[\"메로나\"]\n",
    "ice"
   ]
  },
  {
   "cell_type": "markdown",
   "id": "95929ed5",
   "metadata": {},
   "source": [
    "#### 090\n",
    "다음 코드에서 에러가 발생한 원인을 설명하라.\n",
    "\n",
    "icecream = {'폴라포': 1200, '빵빠레': 1800, '월드콘': 1500, '메로나': 1000}\n",
    "\n",
    "icecream['누가바']\n",
    "\n",
    "Traceback (most recent call last):\n",
    "\n",
    "File \"<pyshell#69>\", line 1, in <module>\n",
    "\n",
    "icecream['누가바']\n",
    "\n",
    " KeyError: '누가바'"
   ]
  },
  {
   "cell_type": "code",
   "execution_count": 17,
   "id": "1ac568dd",
   "metadata": {},
   "outputs": [],
   "source": [
    "# 딕셔너리에 없는 키를 인덱싱함\n"
   ]
  },
  {
   "cell_type": "markdown",
   "id": "593e542f",
   "metadata": {},
   "source": [
    "#### 091 딕셔너리 생성\n",
    "\n",
    "아래의 표에서, 아이스크림 이름을 키값으로, (가격, 재고) 리스트를 딕셔너리의 값으로 저장하라. 딕셔너리의 이름은 inventory로 한다.\n",
    "\n",
    "이름\t가격\t재고\n",
    "\n",
    "메로나\t300\t20\n",
    "\n",
    "비비빅\t400\t3\n",
    "\n",
    "죠스바\t250\t100"
   ]
  },
  {
   "cell_type": "code",
   "execution_count": null,
   "id": "a4f758a0",
   "metadata": {},
   "outputs": [],
   "source": []
  },
  {
   "cell_type": "markdown",
   "id": "ed4b6102",
   "metadata": {},
   "source": [
    "#### 092 딕셔너리 인덱싱\n",
    "inventory 딕셔너리에서 메로나의 가격을 화면에 출력하라.\n",
    "\n",
    "inventory = {\"메로나\": [300, 20],\n",
    "              \"비비빅\": [400, 3],\n",
    "              \"죠스바\": [250, 100]}\n",
    "\n",
    "실행 예시:\n",
    "\n",
    "300 원"
   ]
  },
  {
   "cell_type": "code",
   "execution_count": null,
   "id": "62127e21",
   "metadata": {},
   "outputs": [],
   "source": []
  },
  {
   "cell_type": "markdown",
   "id": "cfd7c2af",
   "metadata": {},
   "source": [
    "#### 093 딕셔너리 인덱싱\n",
    "inventory 딕셔너리에서 메로나의 재고를 화면에 출력하라.\n",
    "\n",
    "inventory = {\"메로나\": [300, 20],\n",
    "              \"비비빅\": [400, 3],\n",
    "              \"죠스바\": [250, 100]}\n",
    "\n",
    "실행 예시:\n",
    "\n",
    "20 개"
   ]
  },
  {
   "cell_type": "code",
   "execution_count": null,
   "id": "c9fe2902",
   "metadata": {},
   "outputs": [],
   "source": []
  },
  {
   "cell_type": "markdown",
   "id": "31345e56",
   "metadata": {},
   "source": [
    "#### 094 딕셔너리 추가\n",
    "\n",
    "inventory 딕셔너리에 아래 데이터를 추가하라.\n",
    "\n",
    "inventory = {\"메로나\": [300, 20],\n",
    "              \"비비빅\": [400, 3],\n",
    "              \"죠스바\": [250, 100]}\n",
    "\n",
    "이름\t가격\t재고\n",
    "\n",
    "월드콘\t500\t7\n",
    "\n",
    "실행 예시:\n",
    "\n",
    "print(inventory)\n",
    "\n",
    "{'메로나': [300, 20], '비비빅': [400, 3], '죠스바': [250, 100], '월드콘': [500, 7]}"
   ]
  },
  {
   "cell_type": "code",
   "execution_count": null,
   "id": "64558e73",
   "metadata": {},
   "outputs": [],
   "source": []
  },
  {
   "cell_type": "markdown",
   "id": "b1cdcde0",
   "metadata": {},
   "source": [
    "#### 095 딕셔너리 keys() 메서드\n",
    "다음의 딕셔너리로부터 key 값으로만 구성된 리스트를 생성하라.\n",
    "\n",
    "icecream = {'탱크보이': 1200, '폴라포': 1200, '빵빠레': 1800, '월드콘': 1500, '메로나': 1000}"
   ]
  },
  {
   "cell_type": "code",
   "execution_count": null,
   "id": "5bbf718b",
   "metadata": {},
   "outputs": [],
   "source": []
  },
  {
   "cell_type": "markdown",
   "id": "f243485a",
   "metadata": {},
   "source": [
    "#### 096 딕셔너리 values() 메서드\n",
    "다음의 딕셔너리에서 values 값으로만 구성된 리스트를 생성하라.\n",
    "\n",
    "icecream = {'탱크보이': 1200, '폴라포': 1200, '빵빠레': 1800, '월드콘': 1500, '메로나': 1000}"
   ]
  },
  {
   "cell_type": "code",
   "execution_count": null,
   "id": "d1650c66",
   "metadata": {},
   "outputs": [],
   "source": []
  },
  {
   "cell_type": "markdown",
   "id": "10e51fab",
   "metadata": {},
   "source": [
    "#### 097 딕셔너리 values() 메서드\n",
    "icecream 딕셔너리에서 아이스크림 판매 금액의 총합을 출력하라.\n",
    "\n",
    "icecream = {'탱크보이': 1200, '폴라포': 1200, '빵빠레': 1800, '월드콘': 1500, '메로나': 1000}\n",
    "\n",
    "출력 예시:\n",
    "6700"
   ]
  },
  {
   "cell_type": "code",
   "execution_count": null,
   "id": "cc35884a",
   "metadata": {},
   "outputs": [],
   "source": []
  },
  {
   "cell_type": "markdown",
   "id": "c5ae3f1e",
   "metadata": {},
   "source": [
    "#### 098 딕셔너리 update 메서드\n",
    "아래의 new_product 딕셔너리를 다음 icecream 딕셔너리에 추가하라.\n",
    "\n",
    "icecream = {'탱크보이': 1200, '폴라포': 1200, '빵빠레': 1800, '월드콘': 1500, '메로나': 1000}\n",
    "\n",
    "new_product = {'팥빙수':2700, '아맛나':1000}\n",
    "\n",
    "실행 예시:\n",
    "\n",
    "print(icecream)\n",
    "\n",
    "{'탱크보이': 1200,  '폴라포': 1200,  '빵빠레': 1800,  '월드콘': 1500,  '메로나': 1000,  '팥빙수':2700, '아맛나':1000}"
   ]
  },
  {
   "cell_type": "code",
   "execution_count": null,
   "id": "a9e6bd4d",
   "metadata": {},
   "outputs": [],
   "source": []
  },
  {
   "cell_type": "markdown",
   "id": "81040d20",
   "metadata": {},
   "source": [
    "#### 099 zip과 dict\n",
    "\n",
    "아래 두 개의 튜플을 하나의 딕셔너리로 변환하라. keys를 키로, vals를 값으로 result 이름의 딕셔너리로 저장한다.\n",
    "\n",
    "keys = (\"apple\", \"pear\", \"peach\")\n",
    "\n",
    "vals = (300, 250, 400)\n",
    "\n",
    "실행 예시:\n",
    "\n",
    "print(result)\n",
    "\n",
    "{'apple': 300, 'pear': 250, 'peach': 400}"
   ]
  },
  {
   "cell_type": "code",
   "execution_count": null,
   "id": "ea27ad74",
   "metadata": {},
   "outputs": [],
   "source": []
  },
  {
   "cell_type": "markdown",
   "id": "54ba65e7",
   "metadata": {},
   "source": [
    "#### 100 zip과 dict\n",
    "date와 close_price 두 개의 리스트를 close_table 이름의 딕셔너리로 생성하라.\n",
    "\n",
    "date = ['09/05', '09/06', '09/07', '09/08', '09/09']\n",
    "\n",
    "close_price = [10500, 10300, 10100, 10800, 11000]\n",
    "\n",
    "실행 예시:\n",
    "\n",
    "print(close_table)\n",
    "\n",
    "{'09/05': 10500, '09/06': 10300, '09/07': 10100, '09/08': 10800, '09/09': 11000}"
   ]
  },
  {
   "cell_type": "code",
   "execution_count": null,
   "id": "ae7c8b44",
   "metadata": {},
   "outputs": [],
   "source": []
  },
  {
   "cell_type": "markdown",
   "id": "5ade67c3",
   "metadata": {},
   "source": []
  },
  {
   "cell_type": "markdown",
   "id": "8b3186ab",
   "metadata": {},
   "source": []
  }
 ],
 "metadata": {
  "kernelspec": {
   "display_name": "Python 3",
   "language": "python",
   "name": "python3"
  },
  "language_info": {
   "codemirror_mode": {
    "name": "ipython",
    "version": 3
   },
   "file_extension": ".py",
   "mimetype": "text/x-python",
   "name": "python",
   "nbconvert_exporter": "python",
   "pygments_lexer": "ipython3",
   "version": "3.8.8"
  }
 },
 "nbformat": 4,
 "nbformat_minor": 5
}
