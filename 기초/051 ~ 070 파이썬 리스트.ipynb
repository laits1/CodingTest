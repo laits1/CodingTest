{
 "cells": [
  {
   "cell_type": "markdown",
   "id": "69bdf6c3",
   "metadata": {},
   "source": [
    "#### 051 리스트 생성\n",
    "2016년 11월 영화 예매 순위 기준 top3는 다음과 같습니다. \n",
    "\n",
    "영화 제목을 movie_rank 이름의 리스트에 저장해보세요. (순위 정보는 저장하지 않습니다.)\n",
    "\n",
    "순위\t영화\n",
    "\n",
    "1\t닥터 스트레인지\n",
    "\n",
    "2\t스플릿\n",
    "\n",
    "3\t럭키"
   ]
  },
  {
   "cell_type": "code",
   "execution_count": null,
   "id": "1175cb4c",
   "metadata": {},
   "outputs": [],
   "source": []
  },
  {
   "cell_type": "markdown",
   "id": "aa8b5d62",
   "metadata": {},
   "source": [
    "#### 052 리스트에 원소 추가\n",
    "051의 movie_rank 리스트에 \"배트맨\"을 추가하라."
   ]
  },
  {
   "cell_type": "code",
   "execution_count": null,
   "id": "3bb6f2d5",
   "metadata": {},
   "outputs": [],
   "source": []
  },
  {
   "cell_type": "markdown",
   "id": "c57d00ae",
   "metadata": {},
   "source": [
    "#### 053\n",
    "movie_rank 리스트에는 아래와 같이 네 개의 영화 제목이 바인딩되어 있다. \"슈퍼맨\"을 \"닥터 스트레인지\"와 \"스플릿\" 사이에 추가하라.\n",
    "\n",
    "movie_rank = ['닥터 스트레인지', '스플릿', '럭키', '배트맨']"
   ]
  },
  {
   "cell_type": "code",
   "execution_count": null,
   "id": "5469e22c",
   "metadata": {},
   "outputs": [],
   "source": []
  },
  {
   "cell_type": "markdown",
   "id": "a41ff83e",
   "metadata": {},
   "source": [
    "#### 054\n",
    "movie_rank 리스트에서 '럭키'를 삭제하라.\n",
    "\n",
    "movie_rank = ['닥터 스트레인지', '슈퍼맨', '스플릿', '럭키', '배트맨']"
   ]
  },
  {
   "cell_type": "code",
   "execution_count": null,
   "id": "fa4cca5a",
   "metadata": {},
   "outputs": [],
   "source": []
  },
  {
   "cell_type": "markdown",
   "id": "99cd9f51",
   "metadata": {},
   "source": [
    "#### 055\n",
    "movie_rank 리스트에서 '스플릿' 과 '배트맨'을 를 삭제하라.\n",
    "\n",
    "movie_rank = ['닥터 스트레인지', '슈퍼맨', '스플릿', '배트맨']"
   ]
  },
  {
   "cell_type": "code",
   "execution_count": null,
   "id": "ccbc821d",
   "metadata": {},
   "outputs": [],
   "source": []
  },
  {
   "cell_type": "markdown",
   "id": "746ca8b7",
   "metadata": {},
   "source": [
    "#### 056\n",
    "lang1과 lang2 리스트가 있을 때 lang1과 lang2의 원소를 모두 갖고 있는 langs 리스트를 만들어라.\n",
    "\n",
    "lang1 = [\"C\", \"C++\", \"JAVA\"]\n",
    "\n",
    "lang2 = [\"Python\", \"Go\", \"C#\"]\n",
    "\n",
    "실행 예:\n",
    "\n",
    "langs\n",
    "['C', 'C++', 'JAVA', 'Python', 'Go', 'C#']"
   ]
  },
  {
   "cell_type": "code",
   "execution_count": null,
   "id": "9fd3dc25",
   "metadata": {},
   "outputs": [],
   "source": []
  },
  {
   "cell_type": "markdown",
   "id": "4437789c",
   "metadata": {},
   "source": [
    "#### 057\n",
    "다음 리스트에서 최댓값과 최솟값을 출력하라. (힌트: min(), max() 함수 사용)\n",
    "\n",
    "nums = [1, 2, 3, 4, 5, 6, 7]\n",
    "\n",
    "실행 예:\n",
    "\n",
    "max:  7\n",
    "\n",
    "min:  1"
   ]
  },
  {
   "cell_type": "code",
   "execution_count": null,
   "id": "eb5f08ec",
   "metadata": {},
   "outputs": [],
   "source": []
  },
  {
   "cell_type": "markdown",
   "id": "c720ebfe",
   "metadata": {},
   "source": [
    "#### 058\n",
    "다음 리스트의 합을 출력하라.\n",
    "\n",
    "\n",
    "nums = [1, 2, 3, 4, 5]\n",
    "\n",
    "실행 예:\n",
    "\n",
    "15"
   ]
  },
  {
   "cell_type": "markdown",
   "id": "73ccdf3e",
   "metadata": {},
   "source": [
    "#### 059\n",
    "다음 리스트에 저장된 데이터의 개수를 화면에 구하하라.\n",
    "\n",
    "cook = [\"피자\", \"김밥\", \"만두\", \"양념치킨\", \"족발\", \"피자\", \"김치만두\", \"쫄면\", \"쏘세지\", \"라면\", \"팥빙수\", \"김치전\"]"
   ]
  },
  {
   "cell_type": "markdown",
   "id": "c525d996",
   "metadata": {},
   "source": [
    "#### 060\n",
    "다음 리스트의 평균을 출력하라.\n",
    "\n",
    "nums = [1, 2, 3, 4, 5]\n",
    "\n",
    "실행 예:\n",
    "\n",
    "3.0"
   ]
  },
  {
   "cell_type": "markdown",
   "id": "96e5a138",
   "metadata": {},
   "source": [
    "#### 061\n",
    "price 변수에는 날짜와 종가 정보가 저장돼 있다. 날짜 정보를 제외하고 가격 정보만을 출력하라. (힌트 : 슬라이싱)\n",
    "\n",
    "price = ['20180728', 100, 130, 140, 150, 160, 170]\n",
    "\n",
    "출력 예시:[100, 130, 140, 150, 160, 170]"
   ]
  },
  {
   "cell_type": "code",
   "execution_count": null,
   "id": "b6a6d6b9",
   "metadata": {},
   "outputs": [],
   "source": []
  },
  {
   "cell_type": "markdown",
   "id": "aefc37e5",
   "metadata": {},
   "source": [
    "#### 062\n",
    "슬라이싱을 사용해서 홀수만 출력하라.\n",
    "\n",
    "nums = [1, 2, 3, 4, 5, 6, 7, 8, 9, 10]\n",
    "\n",
    "실행 예:[1, 3, 5, 7, 9]"
   ]
  },
  {
   "cell_type": "code",
   "execution_count": null,
   "id": "37aef984",
   "metadata": {},
   "outputs": [],
   "source": []
  },
  {
   "cell_type": "markdown",
   "id": "e3be1fd0",
   "metadata": {},
   "source": [
    "#### 063\n",
    "슬라이싱을 사용해서 짝수만 출력하라.\n",
    "\n",
    "nums = [1, 2, 3, 4, 5, 6, 7, 8, 9, 10]\n",
    "\n",
    "실행 예:[2, 4, 6, 8, 10]"
   ]
  },
  {
   "cell_type": "code",
   "execution_count": null,
   "id": "b9332594",
   "metadata": {},
   "outputs": [],
   "source": []
  },
  {
   "cell_type": "markdown",
   "id": "09b20517",
   "metadata": {},
   "source": [
    "#### 064\n",
    "슬라이싱을 사용해서 리스트의 숫자를 역 방향으로 출력하라.\n",
    "\n",
    "nums = [1, 2, 3, 4, 5]\n",
    "\n",
    "실행 예:\n",
    "[5, 4, 3, 2, 1]"
   ]
  },
  {
   "cell_type": "code",
   "execution_count": null,
   "id": "324a864d",
   "metadata": {},
   "outputs": [],
   "source": []
  },
  {
   "cell_type": "markdown",
   "id": "d1e19f06",
   "metadata": {},
   "source": [
    "#### 065\n",
    "\n",
    "interest 리스트에는 아래의 데이터가 바인딩되어 있다.\n",
    "\n",
    "interest = ['삼성전자', 'LG전자', 'Naver']\n",
    "\n",
    "interest 리스트를 사용하여 아래와 같이 화면에 출력하라.\n",
    "\n",
    "\n",
    "출력 예시:삼성전자 Naver"
   ]
  },
  {
   "cell_type": "code",
   "execution_count": null,
   "id": "f2378da0",
   "metadata": {},
   "outputs": [],
   "source": []
  },
  {
   "cell_type": "markdown",
   "id": "9e482ec2",
   "metadata": {},
   "source": [
    "#### 066 join 메서드\n",
    "\n",
    "interest 리스트에는 아래의 데이터가 바인딩되어 있다.\n",
    "\n",
    "interest = ['삼성전자', 'LG전자', 'Naver', 'SK하이닉스', '미래에셋대우']\n",
    "\n",
    "interest 리스트를 사용하여 아래와 같이 화면에 출력하라.\n",
    "\n",
    "출력 예시:삼성전자 LG전자 Naver SK하이닉스 미래에셋대우"
   ]
  },
  {
   "cell_type": "code",
   "execution_count": null,
   "id": "81923436",
   "metadata": {},
   "outputs": [],
   "source": []
  },
  {
   "cell_type": "markdown",
   "id": "4cbbc8de",
   "metadata": {},
   "source": [
    "#### 067 join 메서드\n",
    "\n",
    "interest 리스트에는 아래의 데이터가 바인딩되어 있다.\n",
    "\n",
    "interest = ['삼성전자', 'LG전자', 'Naver', 'SK하이닉스', '미래에셋대우']\n",
    "\n",
    "interest 리스트를 사용하여 아래와 같이 화면에 출력하라.\n",
    "\n",
    "출력 예시:\n",
    "\n",
    "삼성전자/LG전자/Naver/SK하이닉스/미래에셋대우"
   ]
  },
  {
   "cell_type": "code",
   "execution_count": null,
   "id": "2371c562",
   "metadata": {},
   "outputs": [],
   "source": []
  },
  {
   "cell_type": "markdown",
   "id": "e284389f",
   "metadata": {},
   "source": [
    "#### 68 join 메서드\n",
    "\n",
    "interest 리스트에는 아래의 데이터가 바인딩되어 있다.\n",
    "\n",
    "interest = ['삼성전자', 'LG전자', 'Naver', 'SK하이닉스', '미래에셋대우']\n",
    "\n",
    "join() 메서드를 사용해서 interest 리스트를 아래와 같이 화면에 출력하라.\n",
    "\n",
    "출력 예시:\n",
    "삼성전자\n",
    "\n",
    "LG전자\n",
    "\n",
    "Naver\n",
    "\n",
    "SK하이닉스\n",
    "\n",
    "미래에셋대우"
   ]
  },
  {
   "cell_type": "code",
   "execution_count": null,
   "id": "2b05f8f9",
   "metadata": {},
   "outputs": [],
   "source": []
  },
  {
   "cell_type": "markdown",
   "id": "53f2fc1e",
   "metadata": {},
   "source": [
    "#### 069 문자열 split 메서드\n",
    "\n",
    "회사 이름이 슬래시 ('/')로 구분되어 하나의 문자열로 저장되어 있다.\n",
    "\n",
    "string = \"삼성전자/LG전자/Naver\"\n",
    "\n",
    "이를 interest 이름의 리스트로 분리 저장하라.\n",
    "\n",
    "실행 예시\n",
    "\n",
    "print(interest)\n",
    "\n",
    "['삼성전자', 'LG전자', 'Naver']"
   ]
  },
  {
   "cell_type": "code",
   "execution_count": null,
   "id": "09362639",
   "metadata": {},
   "outputs": [],
   "source": []
  },
  {
   "cell_type": "markdown",
   "id": "14db3dd0",
   "metadata": {},
   "source": [
    "#### 070 리스트 정렬\n",
    "\n",
    "리스트에 있는 값을 오름차순으로 정렬하세요.\n",
    "\n",
    "data = [2, 4, 3, 1, 5, 10, 9]"
   ]
  },
  {
   "cell_type": "code",
   "execution_count": null,
   "id": "123568bd",
   "metadata": {},
   "outputs": [],
   "source": []
  },
  {
   "cell_type": "markdown",
   "id": "59b48fe1",
   "metadata": {},
   "source": []
  },
  {
   "cell_type": "markdown",
   "id": "f7080a3b",
   "metadata": {},
   "source": []
  }
 ],
 "metadata": {
  "kernelspec": {
   "display_name": "Python 3",
   "language": "python",
   "name": "python3"
  },
  "language_info": {
   "codemirror_mode": {
    "name": "ipython",
    "version": 3
   },
   "file_extension": ".py",
   "mimetype": "text/x-python",
   "name": "python",
   "nbconvert_exporter": "python",
   "pygments_lexer": "ipython3",
   "version": "3.8.8"
  }
 },
 "nbformat": 4,
 "nbformat_minor": 5
}
