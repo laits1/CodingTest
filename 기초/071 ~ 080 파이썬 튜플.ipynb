{
 "cells": [
  {
   "cell_type": "markdown",
   "id": "ca7b7337",
   "metadata": {},
   "source": [
    "#### 071\n",
    "my_variable 이름의 비어있는 튜플을 만들라."
   ]
  },
  {
   "cell_type": "code",
   "execution_count": null,
   "id": "302cf030",
   "metadata": {},
   "outputs": [],
   "source": []
  },
  {
   "cell_type": "markdown",
   "id": "9674e1b4",
   "metadata": {},
   "source": [
    "#### 072\n",
    "2016년 11월 영화 예매 순위 기준 top3는 다음과 같다. 영화 제목을 movie_rank 이름의 튜플에 저장하라. (순위 정보는 저장하지 않는다.)\n",
    "\n",
    "순위\t영화\n",
    "\n",
    "1\t닥터 스트레인지\n",
    "\n",
    "2\t스플릿\n",
    "\n",
    "3\t럭키\n"
   ]
  },
  {
   "cell_type": "code",
   "execution_count": null,
   "id": "e3db655f",
   "metadata": {},
   "outputs": [],
   "source": []
  },
  {
   "cell_type": "markdown",
   "id": "c60f8845",
   "metadata": {},
   "source": [
    "#### 073\n",
    "숫자 1 이 저장된 튜플을 생성하라."
   ]
  },
  {
   "cell_type": "code",
   "execution_count": null,
   "id": "5b611e2b",
   "metadata": {},
   "outputs": [],
   "source": []
  },
  {
   "cell_type": "markdown",
   "id": "a67331fe",
   "metadata": {},
   "source": [
    "#### 074\n",
    "다음 코드를 실행해보고 오류가 발생하는 원인을 설명하라.\n",
    "\n",
    "t = (1, 2, 3)\n",
    "\n",
    "t[0] = 'a'\n",
    "\n",
    "Traceback (most recent call last):\n",
    "\n",
    "File \"<pyshell#46>\", line 1, in <module>\n",
    "\n",
    "t[0] = 'a'\n",
    "\n",
    "TypeError: 'tuple' object does not support item assignment"
   ]
  },
  {
   "cell_type": "code",
   "execution_count": null,
   "id": "54b07ba1",
   "metadata": {},
   "outputs": [],
   "source": []
  },
  {
   "cell_type": "markdown",
   "id": "f1caaac3",
   "metadata": {},
   "source": [
    "#### 075\n",
    "아래와 같이 t에는 1, 2, 3, 4 데이터가 바인딩되어 있다. t가 바인딩하는 데이터 타입은 무엇인가?\n",
    "\n",
    "t = 1, 2, 3, 4"
   ]
  },
  {
   "cell_type": "code",
   "execution_count": null,
   "id": "8e9b9d1c",
   "metadata": {},
   "outputs": [],
   "source": []
  },
  {
   "cell_type": "markdown",
   "id": "b7644eba",
   "metadata": {},
   "source": [
    "#### 076\n",
    "변수 t에는 아래와 같은 값이 저장되어 있다. 변수 t가 ('A', 'b', 'c') 튜플을 가리키도록 수정 하라.\n",
    "\n",
    "t = ('a', 'b', 'c')"
   ]
  },
  {
   "cell_type": "code",
   "execution_count": null,
   "id": "22e5e7d1",
   "metadata": {},
   "outputs": [],
   "source": []
  },
  {
   "cell_type": "markdown",
   "id": "9bfef301",
   "metadata": {},
   "source": [
    "#### 077\n",
    "다음 튜플을 리스트로 변환하라.\n",
    "\n",
    "interest = ('삼성전자', 'LG전자', 'SK Hynix')"
   ]
  },
  {
   "cell_type": "code",
   "execution_count": null,
   "id": "cc4b94dd",
   "metadata": {},
   "outputs": [],
   "source": []
  },
  {
   "cell_type": "markdown",
   "id": "1b40accc",
   "metadata": {},
   "source": [
    "#### 078\n",
    "다음 리스트를 튜플로 변경하라.\n",
    "\n",
    "interest = ['삼성전자', 'LG전자', 'SK Hynix']"
   ]
  },
  {
   "cell_type": "code",
   "execution_count": null,
   "id": "0b77e68e",
   "metadata": {},
   "outputs": [],
   "source": []
  },
  {
   "cell_type": "markdown",
   "id": "101f41e5",
   "metadata": {},
   "source": [
    "#### 079 튜플 언팩킹\n",
    "다음 코드의 실행 결과를 예상하라.\n",
    "\n",
    "temp = ('apple', 'banana', 'cake')\n",
    "\n",
    "a, b, c = temp\n",
    "\n",
    "print(a, b, c)"
   ]
  },
  {
   "cell_type": "code",
   "execution_count": null,
   "id": "b705a959",
   "metadata": {},
   "outputs": [],
   "source": []
  },
  {
   "cell_type": "markdown",
   "id": "bdb3181c",
   "metadata": {},
   "source": [
    "#### 080 range 함수\n",
    "\n",
    "1 부터 99까지의 정수 중 짝수만 저장된 튜플을 생성하라.\n",
    "\n",
    "(2, 4, 6, 8 ... 98)"
   ]
  },
  {
   "cell_type": "code",
   "execution_count": null,
   "id": "27aab2b8",
   "metadata": {},
   "outputs": [],
   "source": []
  },
  {
   "cell_type": "markdown",
   "id": "eca254d7",
   "metadata": {},
   "source": []
  }
 ],
 "metadata": {
  "kernelspec": {
   "display_name": "Python 3",
   "language": "python",
   "name": "python3"
  },
  "language_info": {
   "codemirror_mode": {
    "name": "ipython",
    "version": 3
   },
   "file_extension": ".py",
   "mimetype": "text/x-python",
   "name": "python",
   "nbconvert_exporter": "python",
   "pygments_lexer": "ipython3",
   "version": "3.8.8"
  }
 },
 "nbformat": 4,
 "nbformat_minor": 5
}
